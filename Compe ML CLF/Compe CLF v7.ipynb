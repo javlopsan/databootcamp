{
 "cells": [
  {
   "cell_type": "code",
   "execution_count": 39,
   "metadata": {},
   "outputs": [],
   "source": [
    "import pandas as pd\n",
    "import numpy as np\n",
    "import matplotlib.pyplot as plt\n",
    "import seaborn as sns\n"
   ]
  },
  {
   "cell_type": "code",
   "execution_count": 40,
   "metadata": {},
   "outputs": [],
   "source": [
    "df=pd.read_csv('data\\\\train.csv',index_col='Id')\n",
    "dfy=pd.read_csv('data\\\\test.csv',index_col='Id')"
   ]
  },
  {
   "cell_type": "code",
   "execution_count": 41,
   "metadata": {},
   "outputs": [],
   "source": [
    "df['age']=df['age'].str.replace('y','').astype(int)\n",
    "\n",
    "dfy['age']=dfy['age'].str.replace('y','').astype(int)"
   ]
  },
  {
   "cell_type": "code",
   "execution_count": 42,
   "metadata": {},
   "outputs": [
    {
     "data": {
      "image/png": "[encoded data removed]",
      "text/plain": [
       "<Figure size 640x480 with 1 Axes>"
      ]
     },
     "metadata": {},
     "output_type": "display_data"
    }
   ],
   "source": [
    "sns.countplot(x='SeriousDlqin2yrs',data=df);"
   ]
  },
  {
   "cell_type": "code",
   "execution_count": 43,
   "metadata": {},
   "outputs": [
    {
     "data": {
      "text/plain": [
       "SeriousDlqin2yrs\n",
       "0    68507\n",
       "1     4856\n",
       "Name: SeriousDlqin2yrs, dtype: int64"
      ]
     },
     "execution_count": 43,
     "metadata": {},
     "output_type": "execute_result"
    }
   ],
   "source": [
    "df.groupby(['SeriousDlqin2yrs'])['SeriousDlqin2yrs'].count()"
   ]
  },
  {
   "cell_type": "code",
   "execution_count": 44,
   "metadata": {},
   "outputs": [
    {
     "name": "stdout",
     "output_type": "stream",
     "text": [
      "<class 'pandas.core.frame.DataFrame'>\n",
      "Int64Index: 73363 entries, 59202 to 11398\n",
      "Data columns (total 11 columns):\n",
      " #   Column                                Non-Null Count  Dtype  \n",
      "---  ------                                --------------  -----  \n",
      " 0   SeriousDlqin2yrs                      73363 non-null  int64  \n",
      " 1   RevolvingUtilizationOfUnsecuredLines  73363 non-null  float64\n",
      " 2   age                                   73363 non-null  int32  \n",
      " 3   NumberOfTime30-59DaysPastDueNotWorse  73363 non-null  int64  \n",
      " 4   DebtRatio                             73363 non-null  float64\n",
      " 5   MonthlyIncome                         58839 non-null  float64\n",
      " 6   NumberOfOpenCreditLinesAndLoans       73363 non-null  int64  \n",
      " 7   NumberOfTimes90DaysLate               73363 non-null  int64  \n",
      " 8   NumberRealEstateLoansOrLines          73363 non-null  int64  \n",
      " 9   NumberOfTime60-89DaysPastDueNotWorse  73363 non-null  int64  \n",
      " 10  NumberOfDependents                    71451 non-null  float64\n",
      "dtypes: float64(4), int32(1), int64(6)\n",
      "memory usage: 8.5 MB\n"
     ]
    }
   ],
   "source": [
    "df.info()"
   ]
  },
  {
   "cell_type": "code",
   "execution_count": 45,
   "metadata": {},
   "outputs": [
    {
     "data": {
      "text/html": [
       "<div>\n",
       "<style scoped>\n",
       "    .dataframe tbody tr th:only-of-type {\n",
       "        vertical-align: middle;\n",
       "    }\n",
       "\n",
       "    .dataframe tbody tr th {\n",
       "        vertical-align: top;\n",
       "    }\n",
       "\n",
       "    .dataframe thead th {\n",
       "        text-align: right;\n",
       "    }\n",
       "</style>\n",
       "<table border=\"1\" class=\"dataframe\">\n",
       "  <thead>\n",
       "    <tr style=\"text-align: right;\">\n",
       "      <th></th>\n",
       "      <th>SeriousDlqin2yrs</th>\n",
       "      <th>RevolvingUtilizationOfUnsecuredLines</th>\n",
       "      <th>age</th>\n",
       "      <th>NumberOfTime30-59DaysPastDueNotWorse</th>\n",
       "      <th>DebtRatio</th>\n",
       "      <th>MonthlyIncome</th>\n",
       "      <th>NumberOfOpenCreditLinesAndLoans</th>\n",
       "      <th>NumberOfTimes90DaysLate</th>\n",
       "      <th>NumberRealEstateLoansOrLines</th>\n",
       "      <th>NumberOfTime60-89DaysPastDueNotWorse</th>\n",
       "      <th>NumberOfDependents</th>\n",
       "    </tr>\n",
       "  </thead>\n",
       "  <tbody>\n",
       "    <tr>\n",
       "      <th>count</th>\n",
       "      <td>73363.000000</td>\n",
       "      <td>73363.000000</td>\n",
       "      <td>73363.000000</td>\n",
       "      <td>73363.000000</td>\n",
       "      <td>73363.000000</td>\n",
       "      <td>5.883900e+04</td>\n",
       "      <td>73363.000000</td>\n",
       "      <td>73363.000000</td>\n",
       "      <td>73363.000000</td>\n",
       "      <td>73363.000000</td>\n",
       "      <td>71451.000000</td>\n",
       "    </tr>\n",
       "    <tr>\n",
       "      <th>mean</th>\n",
       "      <td>0.066191</td>\n",
       "      <td>5.770756</td>\n",
       "      <td>52.355152</td>\n",
       "      <td>0.413151</td>\n",
       "      <td>353.626057</td>\n",
       "      <td>6.647916e+03</td>\n",
       "      <td>8.456347</td>\n",
       "      <td>0.256587</td>\n",
       "      <td>1.017338</td>\n",
       "      <td>0.231152</td>\n",
       "      <td>0.754027</td>\n",
       "    </tr>\n",
       "    <tr>\n",
       "      <th>std</th>\n",
       "      <td>0.248618</td>\n",
       "      <td>229.009439</td>\n",
       "      <td>14.779103</td>\n",
       "      <td>4.090207</td>\n",
       "      <td>2186.579544</td>\n",
       "      <td>1.289355e+04</td>\n",
       "      <td>5.125399</td>\n",
       "      <td>4.066596</td>\n",
       "      <td>1.120381</td>\n",
       "      <td>4.051235</td>\n",
       "      <td>1.107908</td>\n",
       "    </tr>\n",
       "    <tr>\n",
       "      <th>min</th>\n",
       "      <td>0.000000</td>\n",
       "      <td>0.000000</td>\n",
       "      <td>0.000000</td>\n",
       "      <td>0.000000</td>\n",
       "      <td>0.000000</td>\n",
       "      <td>0.000000e+00</td>\n",
       "      <td>0.000000</td>\n",
       "      <td>0.000000</td>\n",
       "      <td>0.000000</td>\n",
       "      <td>0.000000</td>\n",
       "      <td>0.000000</td>\n",
       "    </tr>\n",
       "    <tr>\n",
       "      <th>25%</th>\n",
       "      <td>0.000000</td>\n",
       "      <td>0.029370</td>\n",
       "      <td>41.000000</td>\n",
       "      <td>0.000000</td>\n",
       "      <td>0.174482</td>\n",
       "      <td>3.400000e+03</td>\n",
       "      <td>5.000000</td>\n",
       "      <td>0.000000</td>\n",
       "      <td>0.000000</td>\n",
       "      <td>0.000000</td>\n",
       "      <td>0.000000</td>\n",
       "    </tr>\n",
       "    <tr>\n",
       "      <th>50%</th>\n",
       "      <td>0.000000</td>\n",
       "      <td>0.153077</td>\n",
       "      <td>52.000000</td>\n",
       "      <td>0.000000</td>\n",
       "      <td>0.366197</td>\n",
       "      <td>5.400000e+03</td>\n",
       "      <td>8.000000</td>\n",
       "      <td>0.000000</td>\n",
       "      <td>1.000000</td>\n",
       "      <td>0.000000</td>\n",
       "      <td>0.000000</td>\n",
       "    </tr>\n",
       "    <tr>\n",
       "      <th>75%</th>\n",
       "      <td>0.000000</td>\n",
       "      <td>0.557151</td>\n",
       "      <td>63.000000</td>\n",
       "      <td>0.000000</td>\n",
       "      <td>0.864152</td>\n",
       "      <td>8.249000e+03</td>\n",
       "      <td>11.000000</td>\n",
       "      <td>0.000000</td>\n",
       "      <td>2.000000</td>\n",
       "      <td>0.000000</td>\n",
       "      <td>1.000000</td>\n",
       "    </tr>\n",
       "    <tr>\n",
       "      <th>max</th>\n",
       "      <td>1.000000</td>\n",
       "      <td>29110.000000</td>\n",
       "      <td>109.000000</td>\n",
       "      <td>98.000000</td>\n",
       "      <td>329664.000000</td>\n",
       "      <td>1.794060e+06</td>\n",
       "      <td>54.000000</td>\n",
       "      <td>98.000000</td>\n",
       "      <td>32.000000</td>\n",
       "      <td>98.000000</td>\n",
       "      <td>13.000000</td>\n",
       "    </tr>\n",
       "  </tbody>\n",
       "</table>\n",
       "</div>"
      ],
      "text/plain": [
       "       SeriousDlqin2yrs  RevolvingUtilizationOfUnsecuredLines           age  \\\n",
       "count      73363.000000                          73363.000000  73363.000000   \n",
       "mean           0.066191                              5.770756     52.355152   \n",
       "std            0.248618                            229.009439     14.779103   \n",
       "min            0.000000                              0.000000      0.000000   \n",
       "25%            0.000000                              0.029370     41.000000   \n",
       "50%            0.000000                              0.153077     52.000000   \n",
       "75%            0.000000                              0.557151     63.000000   \n",
       "max            1.000000                          29110.000000    109.000000   \n",
       "\n",
       "       NumberOfTime30-59DaysPastDueNotWorse      DebtRatio  MonthlyIncome  \\\n",
       "count                          73363.000000   73363.000000   5.883900e+04   \n",
       "mean                               0.413151     353.626057   6.647916e+03   \n",
       "std                                4.090207    2186.579544   1.289355e+04   \n",
       "min                                0.000000       0.000000   0.000000e+00   \n",
       "25%                                0.000000       0.174482   3.400000e+03   \n",
       "50%                                0.000000       0.366197   5.400000e+03   \n",
       "75%                                0.000000       0.864152   8.249000e+03   \n",
       "max                               98.000000  329664.000000   1.794060e+06   \n",
       "\n",
       "       NumberOfOpenCreditLinesAndLoans  NumberOfTimes90DaysLate  \\\n",
       "count                     73363.000000             73363.000000   \n",
       "mean                          8.456347                 0.256587   \n",
       "std                           5.125399                 4.066596   \n",
       "min                           0.000000                 0.000000   \n",
       "25%                           5.000000                 0.000000   \n",
       "50%                           8.000000                 0.000000   \n",
       "75%                          11.000000                 0.000000   \n",
       "max                          54.000000                98.000000   \n",
       "\n",
       "       NumberRealEstateLoansOrLines  NumberOfTime60-89DaysPastDueNotWorse  \\\n",
       "count                  73363.000000                          73363.000000   \n",
       "mean                       1.017338                              0.231152   \n",
       "std                        1.120381                              4.051235   \n",
       "min                        0.000000                              0.000000   \n",
       "25%                        0.000000                              0.000000   \n",
       "50%                        1.000000                              0.000000   \n",
       "75%                        2.000000                              0.000000   \n",
       "max                       32.000000                             98.000000   \n",
       "\n",
       "       NumberOfDependents  \n",
       "count        71451.000000  \n",
       "mean             0.754027  \n",
       "std              1.107908  \n",
       "min              0.000000  \n",
       "25%              0.000000  \n",
       "50%              0.000000  \n",
       "75%              1.000000  \n",
       "max             13.000000  "
      ]
     },
     "execution_count": 45,
     "metadata": {},
     "output_type": "execute_result"
    }
   ],
   "source": [
    "df.describe()"
   ]
  },
  {
   "cell_type": "code",
   "execution_count": 46,
   "metadata": {},
   "outputs": [
    {
     "data": {
      "text/html": [
       "<div>\n",
       "<style scoped>\n",
       "    .dataframe tbody tr th:only-of-type {\n",
       "        vertical-align: middle;\n",
       "    }\n",
       "\n",
       "    .dataframe tbody tr th {\n",
       "        vertical-align: top;\n",
       "    }\n",
       "\n",
       "    .dataframe thead th {\n",
       "        text-align: right;\n",
       "    }\n",
       "</style>\n",
       "<table border=\"1\" class=\"dataframe\">\n",
       "  <thead>\n",
       "    <tr style=\"text-align: right;\">\n",
       "      <th></th>\n",
       "      <th>RevolvingUtilizationOfUnsecuredLines</th>\n",
       "      <th>age</th>\n",
       "      <th>NumberOfTime30-59DaysPastDueNotWorse</th>\n",
       "      <th>DebtRatio</th>\n",
       "      <th>MonthlyIncome</th>\n",
       "      <th>NumberOfOpenCreditLinesAndLoans</th>\n",
       "      <th>NumberOfTimes90DaysLate</th>\n",
       "      <th>NumberRealEstateLoansOrLines</th>\n",
       "      <th>NumberOfTime60-89DaysPastDueNotWorse</th>\n",
       "      <th>NumberOfDependents</th>\n",
       "    </tr>\n",
       "  </thead>\n",
       "  <tbody>\n",
       "    <tr>\n",
       "      <th>count</th>\n",
       "      <td>31442.000000</td>\n",
       "      <td>31442.000000</td>\n",
       "      <td>31442.000000</td>\n",
       "      <td>31442.000000</td>\n",
       "      <td>2.518500e+04</td>\n",
       "      <td>31442.000000</td>\n",
       "      <td>31442.000000</td>\n",
       "      <td>31442.000000</td>\n",
       "      <td>31442.000000</td>\n",
       "      <td>30605.000000</td>\n",
       "    </tr>\n",
       "    <tr>\n",
       "      <th>mean</th>\n",
       "      <td>5.208293</td>\n",
       "      <td>52.341740</td>\n",
       "      <td>0.422906</td>\n",
       "      <td>357.737366</td>\n",
       "      <td>6.769814e+03</td>\n",
       "      <td>8.451371</td>\n",
       "      <td>0.267922</td>\n",
       "      <td>1.024712</td>\n",
       "      <td>0.245881</td>\n",
       "      <td>0.760823</td>\n",
       "    </tr>\n",
       "    <tr>\n",
       "      <th>std</th>\n",
       "      <td>187.501402</td>\n",
       "      <td>14.735425</td>\n",
       "      <td>4.251671</td>\n",
       "      <td>2128.070155</td>\n",
       "      <td>2.071397e+04</td>\n",
       "      <td>5.134098</td>\n",
       "      <td>4.227768</td>\n",
       "      <td>1.174371</td>\n",
       "      <td>4.215733</td>\n",
       "      <td>1.122034</td>\n",
       "    </tr>\n",
       "    <tr>\n",
       "      <th>min</th>\n",
       "      <td>0.000000</td>\n",
       "      <td>21.000000</td>\n",
       "      <td>0.000000</td>\n",
       "      <td>0.000000</td>\n",
       "      <td>0.000000e+00</td>\n",
       "      <td>0.000000</td>\n",
       "      <td>0.000000</td>\n",
       "      <td>0.000000</td>\n",
       "      <td>0.000000</td>\n",
       "      <td>0.000000</td>\n",
       "    </tr>\n",
       "    <tr>\n",
       "      <th>25%</th>\n",
       "      <td>0.030904</td>\n",
       "      <td>41.000000</td>\n",
       "      <td>0.000000</td>\n",
       "      <td>0.176366</td>\n",
       "      <td>3.360000e+03</td>\n",
       "      <td>5.000000</td>\n",
       "      <td>0.000000</td>\n",
       "      <td>0.000000</td>\n",
       "      <td>0.000000</td>\n",
       "      <td>0.000000</td>\n",
       "    </tr>\n",
       "    <tr>\n",
       "      <th>50%</th>\n",
       "      <td>0.156211</td>\n",
       "      <td>52.000000</td>\n",
       "      <td>0.000000</td>\n",
       "      <td>0.367642</td>\n",
       "      <td>5.400000e+03</td>\n",
       "      <td>8.000000</td>\n",
       "      <td>0.000000</td>\n",
       "      <td>1.000000</td>\n",
       "      <td>0.000000</td>\n",
       "      <td>0.000000</td>\n",
       "    </tr>\n",
       "    <tr>\n",
       "      <th>75%</th>\n",
       "      <td>0.564281</td>\n",
       "      <td>63.000000</td>\n",
       "      <td>0.000000</td>\n",
       "      <td>0.876299</td>\n",
       "      <td>8.270000e+03</td>\n",
       "      <td>11.000000</td>\n",
       "      <td>0.000000</td>\n",
       "      <td>2.000000</td>\n",
       "      <td>0.000000</td>\n",
       "      <td>1.000000</td>\n",
       "    </tr>\n",
       "    <tr>\n",
       "      <th>max</th>\n",
       "      <td>20514.000000</td>\n",
       "      <td>105.000000</td>\n",
       "      <td>98.000000</td>\n",
       "      <td>307001.000000</td>\n",
       "      <td>3.008750e+06</td>\n",
       "      <td>58.000000</td>\n",
       "      <td>98.000000</td>\n",
       "      <td>54.000000</td>\n",
       "      <td>98.000000</td>\n",
       "      <td>9.000000</td>\n",
       "    </tr>\n",
       "  </tbody>\n",
       "</table>\n",
       "</div>"
      ],
      "text/plain": [
       "       RevolvingUtilizationOfUnsecuredLines           age  \\\n",
       "count                          31442.000000  31442.000000   \n",
       "mean                               5.208293     52.341740   \n",
       "std                              187.501402     14.735425   \n",
       "min                                0.000000     21.000000   \n",
       "25%                                0.030904     41.000000   \n",
       "50%                                0.156211     52.000000   \n",
       "75%                                0.564281     63.000000   \n",
       "max                            20514.000000    105.000000   \n",
       "\n",
       "       NumberOfTime30-59DaysPastDueNotWorse      DebtRatio  MonthlyIncome  \\\n",
       "count                          31442.000000   31442.000000   2.518500e+04   \n",
       "mean                               0.422906     357.737366   6.769814e+03   \n",
       "std                                4.251671    2128.070155   2.071397e+04   \n",
       "min                                0.000000       0.000000   0.000000e+00   \n",
       "25%                                0.000000       0.176366   3.360000e+03   \n",
       "50%                                0.000000       0.367642   5.400000e+03   \n",
       "75%                                0.000000       0.876299   8.270000e+03   \n",
       "max                               98.000000  307001.000000   3.008750e+06   \n",
       "\n",
       "       NumberOfOpenCreditLinesAndLoans  NumberOfTimes90DaysLate  \\\n",
       "count                     31442.000000             31442.000000   \n",
       "mean                          8.451371                 0.267922   \n",
       "std                           5.134098                 4.227768   \n",
       "min                           0.000000                 0.000000   \n",
       "25%                           5.000000                 0.000000   \n",
       "50%                           8.000000                 0.000000   \n",
       "75%                          11.000000                 0.000000   \n",
       "max                          58.000000                98.000000   \n",
       "\n",
       "       NumberRealEstateLoansOrLines  NumberOfTime60-89DaysPastDueNotWorse  \\\n",
       "count                  31442.000000                          31442.000000   \n",
       "mean                       1.024712                              0.245881   \n",
       "std                        1.174371                              4.215733   \n",
       "min                        0.000000                              0.000000   \n",
       "25%                        0.000000                              0.000000   \n",
       "50%                        1.000000                              0.000000   \n",
       "75%                        2.000000                              0.000000   \n",
       "max                       54.000000                             98.000000   \n",
       "\n",
       "       NumberOfDependents  \n",
       "count        30605.000000  \n",
       "mean             0.760823  \n",
       "std              1.122034  \n",
       "min              0.000000  \n",
       "25%              0.000000  \n",
       "50%              0.000000  \n",
       "75%              1.000000  \n",
       "max              9.000000  "
      ]
     },
     "execution_count": 46,
     "metadata": {},
     "output_type": "execute_result"
    }
   ],
   "source": [
    "dfy.describe()"
   ]
  },
  {
   "cell_type": "code",
   "execution_count": 47,
   "metadata": {},
   "outputs": [
    {
     "data": {
      "text/plain": [
       "SeriousDlqin2yrs\n",
       "0    6728.981832\n",
       "1    5557.314173\n",
       "Name: MonthlyIncome, dtype: float64"
      ]
     },
     "execution_count": 47,
     "metadata": {},
     "output_type": "execute_result"
    }
   ],
   "source": [
    "df.groupby(['SeriousDlqin2yrs'])['MonthlyIncome'].mean()"
   ]
  },
  {
   "cell_type": "code",
   "execution_count": 48,
   "metadata": {},
   "outputs": [],
   "source": [
    "LV=list(df['SeriousDlqin2yrs'].unique())\n",
    "\n",
    "\n",
    "for i in LV:\n",
    "    mask1=(df['SeriousDlqin2yrs']==i) & (df['MonthlyIncome']!=df['MonthlyIncome'])\n",
    "    mean_valueMI=df[df['SeriousDlqin2yrs']==i]['MonthlyIncome'].mean()\n",
    "    df['MonthlyIncome'] = np.where(mask1, mean_valueMI, df['MonthlyIncome'])\n",
    "\n",
    "    mean_valueND=df[df['SeriousDlqin2yrs']==i]['NumberOfDependents'].mean().round(0)\n",
    "    df['NumberOfDependents'] = np.where(mask1, mean_valueMI, df['NumberOfDependents'])\n",
    "\n"
   ]
  },
  {
   "cell_type": "code",
   "execution_count": 49,
   "metadata": {},
   "outputs": [
    {
     "name": "stdout",
     "output_type": "stream",
     "text": [
      "<class 'pandas.core.frame.DataFrame'>\n",
      "Int64Index: 73363 entries, 59202 to 11398\n",
      "Data columns (total 11 columns):\n",
      " #   Column                                Non-Null Count  Dtype  \n",
      "---  ------                                --------------  -----  \n",
      " 0   SeriousDlqin2yrs                      73363 non-null  int64  \n",
      " 1   RevolvingUtilizationOfUnsecuredLines  73363 non-null  float64\n",
      " 2   age                                   73363 non-null  int32  \n",
      " 3   NumberOfTime30-59DaysPastDueNotWorse  73363 non-null  int64  \n",
      " 4   DebtRatio                             73363 non-null  float64\n",
      " 5   MonthlyIncome                         73363 non-null  float64\n",
      " 6   NumberOfOpenCreditLinesAndLoans       73363 non-null  int64  \n",
      " 7   NumberOfTimes90DaysLate               73363 non-null  int64  \n",
      " 8   NumberRealEstateLoansOrLines          73363 non-null  int64  \n",
      " 9   NumberOfTime60-89DaysPastDueNotWorse  73363 non-null  int64  \n",
      " 10  NumberOfDependents                    73363 non-null  float64\n",
      "dtypes: float64(4), int32(1), int64(6)\n",
      "memory usage: 8.5 MB\n"
     ]
    }
   ],
   "source": [
    "df.info()"
   ]
  },
  {
   "cell_type": "code",
   "execution_count": 50,
   "metadata": {},
   "outputs": [
    {
     "data": {
      "text/html": [
       "<div>\n",
       "<style scoped>\n",
       "    .dataframe tbody tr th:only-of-type {\n",
       "        vertical-align: middle;\n",
       "    }\n",
       "\n",
       "    .dataframe tbody tr th {\n",
       "        vertical-align: top;\n",
       "    }\n",
       "\n",
       "    .dataframe thead th {\n",
       "        text-align: right;\n",
       "    }\n",
       "</style>\n",
       "<table border=\"1\" class=\"dataframe\">\n",
       "  <thead>\n",
       "    <tr style=\"text-align: right;\">\n",
       "      <th></th>\n",
       "      <th>SeriousDlqin2yrs</th>\n",
       "      <th>RevolvingUtilizationOfUnsecuredLines</th>\n",
       "      <th>age</th>\n",
       "      <th>NumberOfTime30-59DaysPastDueNotWorse</th>\n",
       "      <th>DebtRatio</th>\n",
       "      <th>MonthlyIncome</th>\n",
       "      <th>NumberOfOpenCreditLinesAndLoans</th>\n",
       "      <th>NumberOfTimes90DaysLate</th>\n",
       "      <th>NumberRealEstateLoansOrLines</th>\n",
       "      <th>NumberOfTime60-89DaysPastDueNotWorse</th>\n",
       "      <th>NumberOfDependents</th>\n",
       "    </tr>\n",
       "  </thead>\n",
       "  <tbody>\n",
       "    <tr>\n",
       "      <th>count</th>\n",
       "      <td>73363.000000</td>\n",
       "      <td>73363.000000</td>\n",
       "      <td>73363.000000</td>\n",
       "      <td>73363.000000</td>\n",
       "      <td>73363.000000</td>\n",
       "      <td>7.336300e+04</td>\n",
       "      <td>73363.000000</td>\n",
       "      <td>73363.000000</td>\n",
       "      <td>73363.000000</td>\n",
       "      <td>73363.000000</td>\n",
       "      <td>73363.000000</td>\n",
       "    </tr>\n",
       "    <tr>\n",
       "      <th>mean</th>\n",
       "      <td>0.066191</td>\n",
       "      <td>5.770756</td>\n",
       "      <td>52.355152</td>\n",
       "      <td>0.413151</td>\n",
       "      <td>353.626057</td>\n",
       "      <td>6.651428e+03</td>\n",
       "      <td>8.456347</td>\n",
       "      <td>0.256587</td>\n",
       "      <td>1.017338</td>\n",
       "      <td>0.231152</td>\n",
       "      <td>1320.309025</td>\n",
       "    </tr>\n",
       "    <tr>\n",
       "      <th>std</th>\n",
       "      <td>0.248618</td>\n",
       "      <td>229.009439</td>\n",
       "      <td>14.779103</td>\n",
       "      <td>4.090207</td>\n",
       "      <td>2186.579544</td>\n",
       "      <td>1.154751e+04</td>\n",
       "      <td>5.125399</td>\n",
       "      <td>4.066596</td>\n",
       "      <td>1.120381</td>\n",
       "      <td>4.051235</td>\n",
       "      <td>2658.377667</td>\n",
       "    </tr>\n",
       "    <tr>\n",
       "      <th>min</th>\n",
       "      <td>0.000000</td>\n",
       "      <td>0.000000</td>\n",
       "      <td>0.000000</td>\n",
       "      <td>0.000000</td>\n",
       "      <td>0.000000</td>\n",
       "      <td>0.000000e+00</td>\n",
       "      <td>0.000000</td>\n",
       "      <td>0.000000</td>\n",
       "      <td>0.000000</td>\n",
       "      <td>0.000000</td>\n",
       "      <td>0.000000</td>\n",
       "    </tr>\n",
       "    <tr>\n",
       "      <th>25%</th>\n",
       "      <td>0.000000</td>\n",
       "      <td>0.029370</td>\n",
       "      <td>41.000000</td>\n",
       "      <td>0.000000</td>\n",
       "      <td>0.174482</td>\n",
       "      <td>3.905000e+03</td>\n",
       "      <td>5.000000</td>\n",
       "      <td>0.000000</td>\n",
       "      <td>0.000000</td>\n",
       "      <td>0.000000</td>\n",
       "      <td>0.000000</td>\n",
       "    </tr>\n",
       "    <tr>\n",
       "      <th>50%</th>\n",
       "      <td>0.000000</td>\n",
       "      <td>0.153077</td>\n",
       "      <td>52.000000</td>\n",
       "      <td>0.000000</td>\n",
       "      <td>0.366197</td>\n",
       "      <td>6.482000e+03</td>\n",
       "      <td>8.000000</td>\n",
       "      <td>0.000000</td>\n",
       "      <td>1.000000</td>\n",
       "      <td>0.000000</td>\n",
       "      <td>1.000000</td>\n",
       "    </tr>\n",
       "    <tr>\n",
       "      <th>75%</th>\n",
       "      <td>0.000000</td>\n",
       "      <td>0.557151</td>\n",
       "      <td>63.000000</td>\n",
       "      <td>0.000000</td>\n",
       "      <td>0.864152</td>\n",
       "      <td>7.400000e+03</td>\n",
       "      <td>11.000000</td>\n",
       "      <td>0.000000</td>\n",
       "      <td>2.000000</td>\n",
       "      <td>0.000000</td>\n",
       "      <td>3.000000</td>\n",
       "    </tr>\n",
       "    <tr>\n",
       "      <th>max</th>\n",
       "      <td>1.000000</td>\n",
       "      <td>29110.000000</td>\n",
       "      <td>109.000000</td>\n",
       "      <td>98.000000</td>\n",
       "      <td>329664.000000</td>\n",
       "      <td>1.794060e+06</td>\n",
       "      <td>54.000000</td>\n",
       "      <td>98.000000</td>\n",
       "      <td>32.000000</td>\n",
       "      <td>98.000000</td>\n",
       "      <td>6728.981832</td>\n",
       "    </tr>\n",
       "  </tbody>\n",
       "</table>\n",
       "</div>"
      ],
      "text/plain": [
       "       SeriousDlqin2yrs  RevolvingUtilizationOfUnsecuredLines           age  \\\n",
       "count      73363.000000                          73363.000000  73363.000000   \n",
       "mean           0.066191                              5.770756     52.355152   \n",
       "std            0.248618                            229.009439     14.779103   \n",
       "min            0.000000                              0.000000      0.000000   \n",
       "25%            0.000000                              0.029370     41.000000   \n",
       "50%            0.000000                              0.153077     52.000000   \n",
       "75%            0.000000                              0.557151     63.000000   \n",
       "max            1.000000                          29110.000000    109.000000   \n",
       "\n",
       "       NumberOfTime30-59DaysPastDueNotWorse      DebtRatio  MonthlyIncome  \\\n",
       "count                          73363.000000   73363.000000   7.336300e+04   \n",
       "mean                               0.413151     353.626057   6.651428e+03   \n",
       "std                                4.090207    2186.579544   1.154751e+04   \n",
       "min                                0.000000       0.000000   0.000000e+00   \n",
       "25%                                0.000000       0.174482   3.905000e+03   \n",
       "50%                                0.000000       0.366197   6.482000e+03   \n",
       "75%                                0.000000       0.864152   7.400000e+03   \n",
       "max                               98.000000  329664.000000   1.794060e+06   \n",
       "\n",
       "       NumberOfOpenCreditLinesAndLoans  NumberOfTimes90DaysLate  \\\n",
       "count                     73363.000000             73363.000000   \n",
       "mean                          8.456347                 0.256587   \n",
       "std                           5.125399                 4.066596   \n",
       "min                           0.000000                 0.000000   \n",
       "25%                           5.000000                 0.000000   \n",
       "50%                           8.000000                 0.000000   \n",
       "75%                          11.000000                 0.000000   \n",
       "max                          54.000000                98.000000   \n",
       "\n",
       "       NumberRealEstateLoansOrLines  NumberOfTime60-89DaysPastDueNotWorse  \\\n",
       "count                  73363.000000                          73363.000000   \n",
       "mean                       1.017338                              0.231152   \n",
       "std                        1.120381                              4.051235   \n",
       "min                        0.000000                              0.000000   \n",
       "25%                        0.000000                              0.000000   \n",
       "50%                        1.000000                              0.000000   \n",
       "75%                        2.000000                              0.000000   \n",
       "max                       32.000000                             98.000000   \n",
       "\n",
       "       NumberOfDependents  \n",
       "count        73363.000000  \n",
       "mean          1320.309025  \n",
       "std           2658.377667  \n",
       "min              0.000000  \n",
       "25%              0.000000  \n",
       "50%              1.000000  \n",
       "75%              3.000000  \n",
       "max           6728.981832  "
      ]
     },
     "execution_count": 50,
     "metadata": {},
     "output_type": "execute_result"
    }
   ],
   "source": [
    "df.describe()"
   ]
  },
  {
   "cell_type": "code",
   "execution_count": 51,
   "metadata": {},
   "outputs": [
    {
     "data": {
      "text/plain": [
       "RevolvingUtilizationOfUnsecuredLines       0\n",
       "age                                        0\n",
       "NumberOfTime30-59DaysPastDueNotWorse       0\n",
       "DebtRatio                                  0\n",
       "MonthlyIncome                           6257\n",
       "NumberOfOpenCreditLinesAndLoans            0\n",
       "NumberOfTimes90DaysLate                    0\n",
       "NumberRealEstateLoansOrLines               0\n",
       "NumberOfTime60-89DaysPastDueNotWorse       0\n",
       "NumberOfDependents                       837\n",
       "dtype: int64"
      ]
     },
     "execution_count": 51,
     "metadata": {},
     "output_type": "execute_result"
    }
   ],
   "source": [
    "dfy.isnull().sum()"
   ]
  },
  {
   "cell_type": "code",
   "execution_count": 52,
   "metadata": {},
   "outputs": [
    {
     "data": {
      "text/plain": [
       "SeriousDlqin2yrs\n",
       "0    6728.981832\n",
       "1    5557.314173\n",
       "Name: MonthlyIncome, dtype: float64"
      ]
     },
     "execution_count": 52,
     "metadata": {},
     "output_type": "execute_result"
    }
   ],
   "source": [
    "df.groupby(['SeriousDlqin2yrs'])['MonthlyIncome'].mean()"
   ]
  },
  {
   "cell_type": "code",
   "execution_count": 53,
   "metadata": {},
   "outputs": [
    {
     "data": {
      "image/png": "[encoded data removed]",
      "text/plain": [
       "<Figure size 640x480 with 1 Axes>"
      ]
     },
     "metadata": {},
     "output_type": "display_data"
    }
   ],
   "source": [
    "sns.countplot(x='SeriousDlqin2yrs',data=df);"
   ]
  },
  {
   "cell_type": "code",
   "execution_count": 54,
   "metadata": {},
   "outputs": [],
   "source": [
    "df_1=df[df['SeriousDlqin2yrs']==1]"
   ]
  },
  {
   "cell_type": "code",
   "execution_count": 55,
   "metadata": {},
   "outputs": [
    {
     "name": "stdout",
     "output_type": "stream",
     "text": [
      "<class 'pandas.core.frame.DataFrame'>\n",
      "Int64Index: 4856 entries, 7335 to 53790\n",
      "Data columns (total 11 columns):\n",
      " #   Column                                Non-Null Count  Dtype  \n",
      "---  ------                                --------------  -----  \n",
      " 0   SeriousDlqin2yrs                      4856 non-null   int64  \n",
      " 1   RevolvingUtilizationOfUnsecuredLines  4856 non-null   float64\n",
      " 2   age                                   4856 non-null   int32  \n",
      " 3   NumberOfTime30-59DaysPastDueNotWorse  4856 non-null   int64  \n",
      " 4   DebtRatio                             4856 non-null   float64\n",
      " 5   MonthlyIncome                         4856 non-null   float64\n",
      " 6   NumberOfOpenCreditLinesAndLoans       4856 non-null   int64  \n",
      " 7   NumberOfTimes90DaysLate               4856 non-null   int64  \n",
      " 8   NumberRealEstateLoansOrLines          4856 non-null   int64  \n",
      " 9   NumberOfTime60-89DaysPastDueNotWorse  4856 non-null   int64  \n",
      " 10  NumberOfDependents                    4856 non-null   float64\n",
      "dtypes: float64(4), int32(1), int64(6)\n",
      "memory usage: 436.3 KB\n"
     ]
    }
   ],
   "source": [
    "df_1.info()"
   ]
  },
  {
   "cell_type": "code",
   "execution_count": 56,
   "metadata": {},
   "outputs": [],
   "source": [
    "df_2=df[df['SeriousDlqin2yrs']==0]"
   ]
  },
  {
   "cell_type": "code",
   "execution_count": 57,
   "metadata": {},
   "outputs": [],
   "source": [
    "df_2S=df_2.sample(n=4856,random_state=15)"
   ]
  },
  {
   "cell_type": "code",
   "execution_count": 58,
   "metadata": {},
   "outputs": [],
   "source": [
    "df3=pd.concat([df_2S,df_1])"
   ]
  },
  {
   "cell_type": "code",
   "execution_count": 59,
   "metadata": {},
   "outputs": [
    {
     "data": {
      "image/png": "[encoded data removed]",
      "text/plain": [
       "<Figure size 640x480 with 1 Axes>"
      ]
     },
     "metadata": {},
     "output_type": "display_data"
    }
   ],
   "source": [
    "sns.countplot(x='SeriousDlqin2yrs',data=df3);"
   ]
  },
  {
   "cell_type": "code",
   "execution_count": 60,
   "metadata": {},
   "outputs": [],
   "source": [
    "mean_valueMI=dfy['MonthlyIncome'].mean()\n",
    "mean_valueND=dfy['NumberOfDependents'].mean()\n",
    "\n",
    "dfy['MonthlyIncome'].fillna(value=mean_valueMI, inplace=True)\n",
    "dfy['NumberOfDependents'].fillna(value=round(mean_valueND,0), inplace=True)    "
   ]
  },
  {
   "cell_type": "code",
   "execution_count": 61,
   "metadata": {},
   "outputs": [
    {
     "data": {
      "text/plain": [
       "SeriousDlqin2yrs\n",
       "0    6571.113980\n",
       "1    5557.314173\n",
       "Name: MonthlyIncome, dtype: float64"
      ]
     },
     "execution_count": 61,
     "metadata": {},
     "output_type": "execute_result"
    }
   ],
   "source": [
    "df3.groupby(['SeriousDlqin2yrs'])['MonthlyIncome'].mean()"
   ]
  },
  {
   "cell_type": "code",
   "execution_count": 62,
   "metadata": {},
   "outputs": [
    {
     "data": {
      "text/html": [
       "<div>\n",
       "<style scoped>\n",
       "    .dataframe tbody tr th:only-of-type {\n",
       "        vertical-align: middle;\n",
       "    }\n",
       "\n",
       "    .dataframe tbody tr th {\n",
       "        vertical-align: top;\n",
       "    }\n",
       "\n",
       "    .dataframe thead th {\n",
       "        text-align: right;\n",
       "    }\n",
       "</style>\n",
       "<table border=\"1\" class=\"dataframe\">\n",
       "  <thead>\n",
       "    <tr style=\"text-align: right;\">\n",
       "      <th></th>\n",
       "      <th>SeriousDlqin2yrs</th>\n",
       "      <th>RevolvingUtilizationOfUnsecuredLines</th>\n",
       "      <th>age</th>\n",
       "      <th>NumberOfTime30-59DaysPastDueNotWorse</th>\n",
       "      <th>DebtRatio</th>\n",
       "      <th>MonthlyIncome</th>\n",
       "      <th>NumberOfOpenCreditLinesAndLoans</th>\n",
       "      <th>NumberOfTimes90DaysLate</th>\n",
       "      <th>NumberRealEstateLoansOrLines</th>\n",
       "      <th>NumberOfTime60-89DaysPastDueNotWorse</th>\n",
       "      <th>NumberOfDependents</th>\n",
       "    </tr>\n",
       "  </thead>\n",
       "  <tbody>\n",
       "    <tr>\n",
       "      <th>count</th>\n",
       "      <td>9712.000000</td>\n",
       "      <td>9712.000000</td>\n",
       "      <td>9712.000000</td>\n",
       "      <td>9712.000000</td>\n",
       "      <td>9712.000000</td>\n",
       "      <td>9712.000000</td>\n",
       "      <td>9712.000000</td>\n",
       "      <td>9712.00000</td>\n",
       "      <td>9712.000000</td>\n",
       "      <td>9712.000000</td>\n",
       "      <td>9712.000000</td>\n",
       "    </tr>\n",
       "    <tr>\n",
       "      <th>mean</th>\n",
       "      <td>0.500000</td>\n",
       "      <td>7.340528</td>\n",
       "      <td>49.284390</td>\n",
       "      <td>1.301998</td>\n",
       "      <td>320.822546</td>\n",
       "      <td>6064.214077</td>\n",
       "      <td>8.184823</td>\n",
       "      <td>1.07640</td>\n",
       "      <td>1.001236</td>\n",
       "      <td>0.941104</td>\n",
       "      <td>1117.855139</td>\n",
       "    </tr>\n",
       "    <tr>\n",
       "      <th>std</th>\n",
       "      <td>0.500026</td>\n",
       "      <td>263.528162</td>\n",
       "      <td>14.215599</td>\n",
       "      <td>8.427691</td>\n",
       "      <td>1158.822721</td>\n",
       "      <td>5257.910233</td>\n",
       "      <td>5.346285</td>\n",
       "      <td>8.43298</td>\n",
       "      <td>1.251340</td>\n",
       "      <td>8.409496</td>\n",
       "      <td>2396.165882</td>\n",
       "    </tr>\n",
       "    <tr>\n",
       "      <th>min</th>\n",
       "      <td>0.000000</td>\n",
       "      <td>0.000000</td>\n",
       "      <td>21.000000</td>\n",
       "      <td>0.000000</td>\n",
       "      <td>0.000000</td>\n",
       "      <td>0.000000</td>\n",
       "      <td>0.000000</td>\n",
       "      <td>0.00000</td>\n",
       "      <td>0.000000</td>\n",
       "      <td>0.000000</td>\n",
       "      <td>0.000000</td>\n",
       "    </tr>\n",
       "    <tr>\n",
       "      <th>25%</th>\n",
       "      <td>0.000000</td>\n",
       "      <td>0.070526</td>\n",
       "      <td>39.000000</td>\n",
       "      <td>0.000000</td>\n",
       "      <td>0.183321</td>\n",
       "      <td>3500.000000</td>\n",
       "      <td>4.000000</td>\n",
       "      <td>0.00000</td>\n",
       "      <td>0.000000</td>\n",
       "      <td>0.000000</td>\n",
       "      <td>0.000000</td>\n",
       "    </tr>\n",
       "    <tr>\n",
       "      <th>50%</th>\n",
       "      <td>0.500000</td>\n",
       "      <td>0.443149</td>\n",
       "      <td>49.000000</td>\n",
       "      <td>0.000000</td>\n",
       "      <td>0.392971</td>\n",
       "      <td>5557.314173</td>\n",
       "      <td>7.000000</td>\n",
       "      <td>0.00000</td>\n",
       "      <td>1.000000</td>\n",
       "      <td>0.000000</td>\n",
       "      <td>1.000000</td>\n",
       "    </tr>\n",
       "    <tr>\n",
       "      <th>75%</th>\n",
       "      <td>1.000000</td>\n",
       "      <td>0.948181</td>\n",
       "      <td>59.000000</td>\n",
       "      <td>1.000000</td>\n",
       "      <td>0.866523</td>\n",
       "      <td>6790.250000</td>\n",
       "      <td>11.000000</td>\n",
       "      <td>0.00000</td>\n",
       "      <td>2.000000</td>\n",
       "      <td>0.000000</td>\n",
       "      <td>3.000000</td>\n",
       "    </tr>\n",
       "    <tr>\n",
       "      <th>max</th>\n",
       "      <td>1.000000</td>\n",
       "      <td>22198.000000</td>\n",
       "      <td>102.000000</td>\n",
       "      <td>98.000000</td>\n",
       "      <td>26668.000000</td>\n",
       "      <td>234600.000000</td>\n",
       "      <td>52.000000</td>\n",
       "      <td>98.00000</td>\n",
       "      <td>20.000000</td>\n",
       "      <td>98.000000</td>\n",
       "      <td>6728.981832</td>\n",
       "    </tr>\n",
       "  </tbody>\n",
       "</table>\n",
       "</div>"
      ],
      "text/plain": [
       "       SeriousDlqin2yrs  RevolvingUtilizationOfUnsecuredLines          age  \\\n",
       "count       9712.000000                           9712.000000  9712.000000   \n",
       "mean           0.500000                              7.340528    49.284390   \n",
       "std            0.500026                            263.528162    14.215599   \n",
       "min            0.000000                              0.000000    21.000000   \n",
       "25%            0.000000                              0.070526    39.000000   \n",
       "50%            0.500000                              0.443149    49.000000   \n",
       "75%            1.000000                              0.948181    59.000000   \n",
       "max            1.000000                          22198.000000   102.000000   \n",
       "\n",
       "       NumberOfTime30-59DaysPastDueNotWorse     DebtRatio  MonthlyIncome  \\\n",
       "count                           9712.000000   9712.000000    9712.000000   \n",
       "mean                               1.301998    320.822546    6064.214077   \n",
       "std                                8.427691   1158.822721    5257.910233   \n",
       "min                                0.000000      0.000000       0.000000   \n",
       "25%                                0.000000      0.183321    3500.000000   \n",
       "50%                                0.000000      0.392971    5557.314173   \n",
       "75%                                1.000000      0.866523    6790.250000   \n",
       "max                               98.000000  26668.000000  234600.000000   \n",
       "\n",
       "       NumberOfOpenCreditLinesAndLoans  NumberOfTimes90DaysLate  \\\n",
       "count                      9712.000000               9712.00000   \n",
       "mean                          8.184823                  1.07640   \n",
       "std                           5.346285                  8.43298   \n",
       "min                           0.000000                  0.00000   \n",
       "25%                           4.000000                  0.00000   \n",
       "50%                           7.000000                  0.00000   \n",
       "75%                          11.000000                  0.00000   \n",
       "max                          52.000000                 98.00000   \n",
       "\n",
       "       NumberRealEstateLoansOrLines  NumberOfTime60-89DaysPastDueNotWorse  \\\n",
       "count                   9712.000000                           9712.000000   \n",
       "mean                       1.001236                              0.941104   \n",
       "std                        1.251340                              8.409496   \n",
       "min                        0.000000                              0.000000   \n",
       "25%                        0.000000                              0.000000   \n",
       "50%                        1.000000                              0.000000   \n",
       "75%                        2.000000                              0.000000   \n",
       "max                       20.000000                             98.000000   \n",
       "\n",
       "       NumberOfDependents  \n",
       "count         9712.000000  \n",
       "mean          1117.855139  \n",
       "std           2396.165882  \n",
       "min              0.000000  \n",
       "25%              0.000000  \n",
       "50%              1.000000  \n",
       "75%              3.000000  \n",
       "max           6728.981832  "
      ]
     },
     "execution_count": 62,
     "metadata": {},
     "output_type": "execute_result"
    }
   ],
   "source": [
    "df3.describe()"
   ]
  },
  {
   "cell_type": "code",
   "execution_count": 63,
   "metadata": {},
   "outputs": [
    {
     "data": {
      "text/html": [
       "<div>\n",
       "<style scoped>\n",
       "    .dataframe tbody tr th:only-of-type {\n",
       "        vertical-align: middle;\n",
       "    }\n",
       "\n",
       "    .dataframe tbody tr th {\n",
       "        vertical-align: top;\n",
       "    }\n",
       "\n",
       "    .dataframe thead th {\n",
       "        text-align: right;\n",
       "    }\n",
       "</style>\n",
       "<table border=\"1\" class=\"dataframe\">\n",
       "  <thead>\n",
       "    <tr style=\"text-align: right;\">\n",
       "      <th></th>\n",
       "      <th>SeriousDlqin2yrs</th>\n",
       "      <th>RevolvingUtilizationOfUnsecuredLines</th>\n",
       "      <th>age</th>\n",
       "      <th>NumberOfTime30-59DaysPastDueNotWorse</th>\n",
       "      <th>DebtRatio</th>\n",
       "      <th>MonthlyIncome</th>\n",
       "      <th>NumberOfOpenCreditLinesAndLoans</th>\n",
       "      <th>NumberOfTimes90DaysLate</th>\n",
       "      <th>NumberRealEstateLoansOrLines</th>\n",
       "      <th>NumberOfTime60-89DaysPastDueNotWorse</th>\n",
       "      <th>NumberOfDependents</th>\n",
       "    </tr>\n",
       "    <tr>\n",
       "      <th>Id</th>\n",
       "      <th></th>\n",
       "      <th></th>\n",
       "      <th></th>\n",
       "      <th></th>\n",
       "      <th></th>\n",
       "      <th></th>\n",
       "      <th></th>\n",
       "      <th></th>\n",
       "      <th></th>\n",
       "      <th></th>\n",
       "      <th></th>\n",
       "    </tr>\n",
       "  </thead>\n",
       "  <tbody>\n",
       "    <tr>\n",
       "      <th>59202</th>\n",
       "      <td>0</td>\n",
       "      <td>1.000000</td>\n",
       "      <td>63</td>\n",
       "      <td>4</td>\n",
       "      <td>0.544965</td>\n",
       "      <td>3902.000000</td>\n",
       "      <td>6</td>\n",
       "      <td>1</td>\n",
       "      <td>2</td>\n",
       "      <td>1</td>\n",
       "      <td>0.000000</td>\n",
       "    </tr>\n",
       "    <tr>\n",
       "      <th>122913</th>\n",
       "      <td>0</td>\n",
       "      <td>0.007645</td>\n",
       "      <td>53</td>\n",
       "      <td>0</td>\n",
       "      <td>4519.000000</td>\n",
       "      <td>0.000000</td>\n",
       "      <td>13</td>\n",
       "      <td>0</td>\n",
       "      <td>2</td>\n",
       "      <td>0</td>\n",
       "      <td>0.000000</td>\n",
       "    </tr>\n",
       "    <tr>\n",
       "      <th>111937</th>\n",
       "      <td>0</td>\n",
       "      <td>0.863713</td>\n",
       "      <td>30</td>\n",
       "      <td>0</td>\n",
       "      <td>1.337353</td>\n",
       "      <td>3316.000000</td>\n",
       "      <td>14</td>\n",
       "      <td>0</td>\n",
       "      <td>2</td>\n",
       "      <td>0</td>\n",
       "      <td>0.000000</td>\n",
       "    </tr>\n",
       "    <tr>\n",
       "      <th>113491</th>\n",
       "      <td>0</td>\n",
       "      <td>0.058220</td>\n",
       "      <td>41</td>\n",
       "      <td>0</td>\n",
       "      <td>0.289363</td>\n",
       "      <td>8065.000000</td>\n",
       "      <td>9</td>\n",
       "      <td>0</td>\n",
       "      <td>1</td>\n",
       "      <td>0</td>\n",
       "      <td>2.000000</td>\n",
       "    </tr>\n",
       "    <tr>\n",
       "      <th>116902</th>\n",
       "      <td>0</td>\n",
       "      <td>0.015711</td>\n",
       "      <td>50</td>\n",
       "      <td>0</td>\n",
       "      <td>2784.000000</td>\n",
       "      <td>6728.981832</td>\n",
       "      <td>16</td>\n",
       "      <td>0</td>\n",
       "      <td>2</td>\n",
       "      <td>0</td>\n",
       "      <td>6728.981832</td>\n",
       "    </tr>\n",
       "  </tbody>\n",
       "</table>\n",
       "</div>"
      ],
      "text/plain": [
       "        SeriousDlqin2yrs  RevolvingUtilizationOfUnsecuredLines  age  \\\n",
       "Id                                                                    \n",
       "59202                  0                              1.000000   63   \n",
       "122913                 0                              0.007645   53   \n",
       "111937                 0                              0.863713   30   \n",
       "113491                 0                              0.058220   41   \n",
       "116902                 0                              0.015711   50   \n",
       "\n",
       "        NumberOfTime30-59DaysPastDueNotWorse    DebtRatio  MonthlyIncome  \\\n",
       "Id                                                                         \n",
       "59202                                      4     0.544965    3902.000000   \n",
       "122913                                     0  4519.000000       0.000000   \n",
       "111937                                     0     1.337353    3316.000000   \n",
       "113491                                     0     0.289363    8065.000000   \n",
       "116902                                     0  2784.000000    6728.981832   \n",
       "\n",
       "        NumberOfOpenCreditLinesAndLoans  NumberOfTimes90DaysLate  \\\n",
       "Id                                                                 \n",
       "59202                                 6                        1   \n",
       "122913                               13                        0   \n",
       "111937                               14                        0   \n",
       "113491                                9                        0   \n",
       "116902                               16                        0   \n",
       "\n",
       "        NumberRealEstateLoansOrLines  NumberOfTime60-89DaysPastDueNotWorse  \\\n",
       "Id                                                                           \n",
       "59202                              2                                     1   \n",
       "122913                             2                                     0   \n",
       "111937                             2                                     0   \n",
       "113491                             1                                     0   \n",
       "116902                             2                                     0   \n",
       "\n",
       "        NumberOfDependents  \n",
       "Id                          \n",
       "59202             0.000000  \n",
       "122913            0.000000  \n",
       "111937            0.000000  \n",
       "113491            2.000000  \n",
       "116902         6728.981832  "
      ]
     },
     "execution_count": 63,
     "metadata": {},
     "output_type": "execute_result"
    }
   ],
   "source": [
    "df.head()"
   ]
  },
  {
   "cell_type": "code",
   "execution_count": 64,
   "metadata": {},
   "outputs": [],
   "source": [
    "X = df3.drop(columns=['SeriousDlqin2yrs'])\n",
    "y = df3['SeriousDlqin2yrs']"
   ]
  },
  {
   "cell_type": "code",
   "execution_count": 65,
   "metadata": {},
   "outputs": [],
   "source": [
    "from sklearn.model_selection import train_test_split\n",
    "\n",
    "\n",
    "X_train, X_test, y_train, y_test = train_test_split(X,y, test_size=0.2, random_state=0)"
   ]
  },
  {
   "cell_type": "code",
   "execution_count": 66,
   "metadata": {},
   "outputs": [
    {
     "name": "stdout",
     "output_type": "stream",
     "text": [
      "(7769, 10)\n",
      "(1943, 10)\n",
      "(7769,)\n",
      "(1943,)\n"
     ]
    }
   ],
   "source": [
    "print(X_train.shape)\n",
    "print(X_test.shape)\n",
    "print(y_train.shape)\n",
    "print(y_test.shape)"
   ]
  },
  {
   "cell_type": "code",
   "execution_count": 67,
   "metadata": {},
   "outputs": [
    {
     "data": {
      "text/plain": [
       "0    0.502831\n",
       "1    0.497169\n",
       "Name: SeriousDlqin2yrs, dtype: float64"
      ]
     },
     "execution_count": 67,
     "metadata": {},
     "output_type": "execute_result"
    }
   ],
   "source": [
    "y_test.value_counts(normalize=True)"
   ]
  },
  {
   "cell_type": "code",
   "execution_count": 68,
   "metadata": {},
   "outputs": [],
   "source": [
    "from sklearn.pipeline import Pipeline\n",
    "from sklearn.ensemble import RandomForestClassifier, GradientBoostingClassifier\n",
    "from sklearn.linear_model import LogisticRegression\n",
    "from sklearn.neighbors import KNeighborsClassifier\n",
    "from sklearn.svm import SVC\n",
    "from sklearn.preprocessing import StandardScaler\n",
    "from sklearn.feature_selection import SelectKBest\n",
    "from sklearn.model_selection import GridSearchCV, RandomizedSearchCV\n",
    "from sklearn.impute import SimpleImputer\n",
    "from sklearn.tree import DecisionTreeClassifier\n",
    "from sklearn.metrics import accuracy_score\n",
    "from sklearn.metrics import roc_auc_score"
   ]
  },
  {
   "cell_type": "code",
   "execution_count": 69,
   "metadata": {},
   "outputs": [],
   "source": [
    "from sklearn import decomposition\n",
    "sc = StandardScaler()\n",
    "pca = decomposition.PCA()\n",
    "X=df.iloc[:,:-1]\n",
    "n_components = list(range(1,X.shape[1]+1,1))\n",
    "dtreeCLF = DecisionTreeClassifier()"
   ]
  },
  {
   "cell_type": "code",
   "execution_count": 70,
   "metadata": {},
   "outputs": [],
   "source": [
    "reg_log = Pipeline(steps = [\n",
    "    (\"imputer\", SimpleImputer()),\n",
    "    (\"selectkbest\", SelectKBest()),\n",
    "    (\"scaler\", StandardScaler()),\n",
    "    (\"reglog\", LogisticRegression())\n",
    "])\n",
    "reg_log_param = {\n",
    "    'selectkbest__k': [8,10],\n",
    "    \"imputer__strategy\": ['mean', 'median'],\n",
    "    \"reglog__penalty\": ['l1', 'l2'],\n",
    "    \"reglog__C\": np.logspace(0, 4, 10)\n",
    "}\n",
    "\n",
    "rfc = Pipeline(steps=[\n",
    "    (\"selectkbest\", SelectKBest()),\n",
    "    (\"rfc\",RandomForestClassifier())\n",
    "])\n",
    "\n",
    "rfc_param = {\n",
    "    'selectkbest__k': [10],\n",
    "    \"rfc__n_estimators\": [1000,1100,1200,1300,1400,1500,1600,1700,1800,1900,2000],\n",
    "    \"rfc__max_features\": [1,2],\n",
    "    'rfc__criterion' : ['gini','entropy']\n",
    "}\n",
    "\n",
    "\n",
    "svm = Pipeline(steps=[\n",
    "    (\"scaler\", StandardScaler()),\n",
    "    (\"selectkbest\", SelectKBest()),\n",
    "    (\"svm\", SVC())\n",
    "])\n",
    "\n",
    "\n",
    "svm_param = {\n",
    "    'selectkbest__k': [2, 3, 4],\n",
    "    'svm__kernel': ['linear', 'rbf', 'sigmoid', 'poly'],\n",
    "    'svm__C': [0.001, 0.1, 0.5, 1, 5, 10, 100],\n",
    "    'svm__degree': [1,2,3,4],\n",
    "    'svm__gamma': ['scale', 'auto']\n",
    "}\n",
    "\n",
    "knn = Pipeline(steps = [    \n",
    "    (\"knn_scaler\", StandardScaler()),\n",
    "    (\"knn\", KNeighborsClassifier())\n",
    "])\n",
    "\n",
    "knn_param = {\n",
    "    'knn__leaf_size': [30,60,90],\n",
    "    'knn__n_neighbors':[5,25,50,100],\n",
    "    'knn__p' : [2,4,6]\n",
    "\n",
    "    \n",
    "}\n",
    "\n",
    "Dtree = Pipeline(steps = [ \n",
    "\n",
    "    (\"sc\", sc),\n",
    "    (\"pca\", pca),\n",
    "    (\"DtreeCLF\", DecisionTreeClassifier())\n",
    "])\n",
    "\n",
    "Dtree_param = {\n",
    "    \"DtreeCLF__criterion\": [\"gini\", \"entropy\"], \n",
    "    \"DtreeCLF__max_depth\": [1,2,3,4,5,6,7, None],\n",
    "    \"DtreeCLF__min_samples_leaf\": [1, 2, 3]\n",
    "}\n",
    "\n",
    "\n",
    "\n"
   ]
  },
  {
   "cell_type": "code",
   "execution_count": 71,
   "metadata": {},
   "outputs": [],
   "source": [
    "gs_reg_log = GridSearchCV(reg_log,\n",
    "                         reg_log_param,\n",
    "                         cv = 10,\n",
    "                         scoring = 'roc_auc',\n",
    "                         verbose = 1,\n",
    "                         n_jobs = -1)\n",
    "\n",
    "gs_rfc = GridSearchCV(rfc,\n",
    "                         rfc_param,\n",
    "                         cv = 10,\n",
    "                         scoring = 'roc_auc',\n",
    "                         verbose = 1,\n",
    "                         n_jobs = -1)\n",
    "\n",
    "gs_svm = GridSearchCV(svm,\n",
    "                         svm_param,\n",
    "                         cv = 10,\n",
    "                         scoring = 'roc_auc',\n",
    "                         verbose = 1,\n",
    "                         n_jobs = -1)\n",
    "gs_knn = GridSearchCV(knn,\n",
    "                         knn_param,\n",
    "                         cv = 10,\n",
    "                         scoring = 'roc_auc',\n",
    "                         verbose = 1,\n",
    "                         n_jobs = -1)\n",
    "gs_Dtree = GridSearchCV(Dtree,\n",
    "                         Dtree_param,\n",
    "                         cv = 10,\n",
    "                         scoring = 'roc_auc',\n",
    "                         verbose = 1,\n",
    "                         n_jobs = -1)\n",
    "\n",
    "\n",
    "\n",
    "\n",
    "\n",
    "grids = {#\"gs_reg_log\": gs_reg_log,\n",
    "        \"gs_rfc\": gs_rfc,\n",
    "        #\"gs_svm\": gs_svm,\n",
    "        #\"gs_knn\": gs_knn,\n",
    "        #\"gs_dtree\": gs_Dtree   \n",
    "        \n",
    "        }"
   ]
  },
  {
   "cell_type": "code",
   "execution_count": 72,
   "metadata": {},
   "outputs": [
    {
     "name": "stdout",
     "output_type": "stream",
     "text": [
      "Fitting 10 folds for each of 44 candidates, totalling 440 fits\n"
     ]
    }
   ],
   "source": [
    "for nombre, grid_search in grids.items():\n",
    "    grid_search.fit(X_train, y_train)"
   ]
  },
  {
   "cell_type": "code",
   "execution_count": 73,
   "metadata": {},
   "outputs": [
    {
     "name": "stdout",
     "output_type": "stream",
     "text": [
      "0.8927628205826181\n",
      "{'rfc__criterion': 'gini', 'rfc__max_features': 1, 'rfc__n_estimators': 1900, 'selectkbest__k': 10}\n",
      "Pipeline(steps=[('selectkbest', SelectKBest()),\n",
      "                ('rfc',\n",
      "                 RandomForestClassifier(max_features=1, n_estimators=1900))])\n"
     ]
    }
   ],
   "source": [
    "print(gs_rfc.best_score_)\n",
    "print(gs_rfc.best_params_)\n",
    "print(gs_rfc.best_estimator_)"
   ]
  },
  {
   "cell_type": "code",
   "execution_count": 74,
   "metadata": {},
   "outputs": [
    {
     "data": {
      "text/plain": [
       "0.8116953915204994"
      ]
     },
     "execution_count": 74,
     "metadata": {},
     "output_type": "execute_result"
    }
   ],
   "source": [
    "preds = gs_rfc.best_estimator_.predict(X_test)\n",
    "roc_auc_score(y_test, preds)"
   ]
  },
  {
   "cell_type": "code",
   "execution_count": 75,
   "metadata": {},
   "outputs": [],
   "source": [
    "preds = gs_rfc.best_estimator_.predict(dfy)"
   ]
  },
  {
   "cell_type": "code",
   "execution_count": 76,
   "metadata": {},
   "outputs": [
    {
     "data": {
      "text/plain": [
       "(31442,)"
      ]
     },
     "execution_count": 76,
     "metadata": {},
     "output_type": "execute_result"
    }
   ],
   "source": [
    "preds.shape"
   ]
  },
  {
   "cell_type": "code",
   "execution_count": 77,
   "metadata": {},
   "outputs": [
    {
     "data": {
      "text/plain": [
       "array([1, 0, 0, ..., 0, 0, 0], dtype=int64)"
      ]
     },
     "execution_count": 77,
     "metadata": {},
     "output_type": "execute_result"
    }
   ],
   "source": [
    "predictions_submit = preds\n",
    "predictions_submit"
   ]
  },
  {
   "cell_type": "code",
   "execution_count": 78,
   "metadata": {},
   "outputs": [],
   "source": [
    "sample = pd.read_csv(\"data\\\\sample_submission.csv\")"
   ]
  },
  {
   "cell_type": "code",
   "execution_count": 79,
   "metadata": {},
   "outputs": [
    {
     "data": {
      "text/html": [
       "<div>\n",
       "<style scoped>\n",
       "    .dataframe tbody tr th:only-of-type {\n",
       "        vertical-align: middle;\n",
       "    }\n",
       "\n",
       "    .dataframe tbody tr th {\n",
       "        vertical-align: top;\n",
       "    }\n",
       "\n",
       "    .dataframe thead th {\n",
       "        text-align: right;\n",
       "    }\n",
       "</style>\n",
       "<table border=\"1\" class=\"dataframe\">\n",
       "  <thead>\n",
       "    <tr style=\"text-align: right;\">\n",
       "      <th></th>\n",
       "      <th>Id</th>\n",
       "      <th>SeriousDlqin2yrs</th>\n",
       "    </tr>\n",
       "  </thead>\n",
       "  <tbody>\n",
       "    <tr>\n",
       "      <th>0</th>\n",
       "      <td>11631</td>\n",
       "      <td>1</td>\n",
       "    </tr>\n",
       "    <tr>\n",
       "      <th>1</th>\n",
       "      <td>74682</td>\n",
       "      <td>1</td>\n",
       "    </tr>\n",
       "    <tr>\n",
       "      <th>2</th>\n",
       "      <td>70312</td>\n",
       "      <td>1</td>\n",
       "    </tr>\n",
       "    <tr>\n",
       "      <th>3</th>\n",
       "      <td>78398</td>\n",
       "      <td>0</td>\n",
       "    </tr>\n",
       "    <tr>\n",
       "      <th>4</th>\n",
       "      <td>139155</td>\n",
       "      <td>0</td>\n",
       "    </tr>\n",
       "    <tr>\n",
       "      <th>...</th>\n",
       "      <td>...</td>\n",
       "      <td>...</td>\n",
       "    </tr>\n",
       "    <tr>\n",
       "      <th>31437</th>\n",
       "      <td>147852</td>\n",
       "      <td>1</td>\n",
       "    </tr>\n",
       "    <tr>\n",
       "      <th>31438</th>\n",
       "      <td>127034</td>\n",
       "      <td>0</td>\n",
       "    </tr>\n",
       "    <tr>\n",
       "      <th>31439</th>\n",
       "      <td>10875</td>\n",
       "      <td>1</td>\n",
       "    </tr>\n",
       "    <tr>\n",
       "      <th>31440</th>\n",
       "      <td>30114</td>\n",
       "      <td>1</td>\n",
       "    </tr>\n",
       "    <tr>\n",
       "      <th>31441</th>\n",
       "      <td>70416</td>\n",
       "      <td>1</td>\n",
       "    </tr>\n",
       "  </tbody>\n",
       "</table>\n",
       "<p>31442 rows × 2 columns</p>\n",
       "</div>"
      ],
      "text/plain": [
       "           Id  SeriousDlqin2yrs\n",
       "0       11631                 1\n",
       "1       74682                 1\n",
       "2       70312                 1\n",
       "3       78398                 0\n",
       "4      139155                 0\n",
       "...       ...               ...\n",
       "31437  147852                 1\n",
       "31438  127034                 0\n",
       "31439   10875                 1\n",
       "31440   30114                 1\n",
       "31441   70416                 1\n",
       "\n",
       "[31442 rows x 2 columns]"
      ]
     },
     "execution_count": 79,
     "metadata": {},
     "output_type": "execute_result"
    }
   ],
   "source": [
    "sample"
   ]
  },
  {
   "cell_type": "code",
   "execution_count": 80,
   "metadata": {},
   "outputs": [],
   "source": [
    "submission = pd.DataFrame({\"id\":sample['Id'], \"SeriousDlqin2yrs\": predictions_submit})"
   ]
  },
  {
   "cell_type": "code",
   "execution_count": 81,
   "metadata": {},
   "outputs": [
    {
     "data": {
      "text/plain": [
       "(31442, 2)"
      ]
     },
     "execution_count": 81,
     "metadata": {},
     "output_type": "execute_result"
    }
   ],
   "source": [
    "submission.shape"
   ]
  },
  {
   "cell_type": "code",
   "execution_count": 82,
   "metadata": {},
   "outputs": [],
   "source": [
    "submission.to_csv(\"submission.csv\", index = False)"
   ]
  }
 ],
 "metadata": {
  "kernelspec": {
   "display_name": "Python 3",
   "language": "python",
   "name": "python3"
  },
  "language_info": {
   "codemirror_mode": {
    "name": "ipython",
    "version": 3
   },
   "file_extension": ".py",
   "mimetype": "text/x-python",
   "name": "python",
   "nbconvert_exporter": "python",
   "pygments_lexer": "ipython3",
   "version": "3.7.4"
  },
  "orig_nbformat": 4,
  "vscode": {
   "interpreter": {
    "hash": "b00c257d8044ebdf3de0db553b92a3dd43b22b3b5ac011b6e6d9354f099532d2"
   }
  }
 },
 "nbformat": 4,
 "nbformat_minor": 2
}
